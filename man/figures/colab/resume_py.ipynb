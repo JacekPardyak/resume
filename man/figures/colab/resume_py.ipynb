{
  "nbformat": 4,
  "nbformat_minor": 0,
  "metadata": {
    "colab": {
      "provenance": [],
      "authorship_tag": "ABX9TyORD1oAdVweh+c16cs3s+l0",
      "include_colab_link": true
    },
    "kernelspec": {
      "name": "python3",
      "display_name": "Python 3"
    },
    "language_info": {
      "name": "python"
    }
  },
  "cells": [
    {
      "cell_type": "markdown",
      "metadata": {
        "id": "view-in-github",
        "colab_type": "text"
      },
      "source": [
        "<a href=\"https://colab.research.google.com/github/JacekPardyak/resume/blob/master/man/figures/colab/resume_py.ipynb\" target=\"_parent\"><img src=\"https://colab.research.google.com/assets/colab-badge.svg\" alt=\"Open In Colab\"/></a>"
      ]
    },
    {
      "cell_type": "markdown",
      "source": [
        "# Installation"
      ],
      "metadata": {
        "id": "mSap_mHJbxzj"
      }
    },
    {
      "cell_type": "code",
      "source": [
        "# install texlive with xetex engine\n",
        "!sudo apt-get update -y\n",
        "!sudo apt-get install -y texlive-xetex\n",
        "# you may also need suport for specific languages\n",
        "!sudo apt-get install -y texlive-lang-polish\n",
        "!sudo apt-get install -y texlive-lang-cyrillic"
      ],
      "metadata": {
        "colab": {
          "base_uri": "https://localhost:8080/"
        },
        "id": "XkB4IijWyW9U",
        "outputId": "ff3fd0a9-c798-46d1-90cf-b46a2ffaea25"
      },
      "execution_count": 12,
      "outputs": [
        {
          "output_type": "stream",
          "name": "stdout",
          "text": [
            "\r0% [Working]\r            \rHit:1 https://cloud.r-project.org/bin/linux/ubuntu jammy-cran40/ InRelease\n",
            "Hit:2 https://developer.download.nvidia.com/compute/cuda/repos/ubuntu2204/x86_64  InRelease\n",
            "Hit:3 http://archive.ubuntu.com/ubuntu jammy InRelease\n",
            "Get:4 http://security.ubuntu.com/ubuntu jammy-security InRelease [110 kB]\n",
            "Get:5 http://archive.ubuntu.com/ubuntu jammy-updates InRelease [119 kB]\n",
            "Hit:6 https://ppa.launchpadcontent.net/c2d4u.team/c2d4u4.0+/ubuntu jammy InRelease\n",
            "Get:7 http://archive.ubuntu.com/ubuntu jammy-backports InRelease [109 kB]\n",
            "Hit:8 https://ppa.launchpadcontent.net/deadsnakes/ppa/ubuntu jammy InRelease\n",
            "Hit:9 https://ppa.launchpadcontent.net/graphics-drivers/ppa/ubuntu jammy InRelease\n",
            "Hit:10 https://ppa.launchpadcontent.net/ubuntugis/ppa/ubuntu jammy InRelease\n",
            "Fetched 338 kB in 4s (90.4 kB/s)\n",
            "Reading package lists... Done\n",
            "Reading package lists... Done\n",
            "Building dependency tree... Done\n",
            "Reading state information... Done\n",
            "texlive-xetex is already the newest version (2021.20220204-1).\n",
            "0 upgraded, 0 newly installed, 0 to remove and 16 not upgraded.\n",
            "Reading package lists... Done\n",
            "Building dependency tree... Done\n",
            "Reading state information... Done\n",
            "texlive-lang-polish is already the newest version (2021.20220204-1).\n",
            "0 upgraded, 0 newly installed, 0 to remove and 16 not upgraded.\n",
            "Reading package lists... Done\n",
            "Building dependency tree... Done\n",
            "Reading state information... Done\n",
            "texlive-lang-cyrillic is already the newest version (2021.20220204-1).\n",
            "0 upgraded, 0 newly installed, 0 to remove and 16 not upgraded.\n"
          ]
        }
      ]
    },
    {
      "cell_type": "code",
      "execution_count": 13,
      "metadata": {
        "id": "ZIp4ZtMBWtI4",
        "colab": {
          "base_uri": "https://localhost:8080/",
          "height": 110
        },
        "outputId": "4dfc0915-fd82-4953-a63d-58b48dce5ca0"
      },
      "outputs": [
        {
          "output_type": "stream",
          "name": "stderr",
          "text": [
            "WARNING:rpy2.rinterface_lib.callbacks:R[write to console]: Skipping install of 'resume' from a github remote, the SHA1 (76c391ad) has not changed since last install.\n",
            "  Use `force = TRUE` to force installation\n",
            "\n"
          ]
        },
        {
          "output_type": "execute_result",
          "data": {
            "text/plain": [
              "<rpy2.robjects.vectors.StrVector object at 0x7dce88972fc0> [RTYPES.STRSXP]\n",
              "R classes: ('character',)\n",
              "['resume']"
            ],
            "text/html": [
              "\n",
              "        <span>StrVector with 1 elements.</span>\n",
              "        <table>\n",
              "        <tbody>\n",
              "          <tr>\n",
              "          \n",
              "            <td>\n",
              "            'resume'\n",
              "            </td>\n",
              "          \n",
              "          </tr>\n",
              "        </tbody>\n",
              "        </table>\n",
              "        "
            ]
          },
          "metadata": {},
          "execution_count": 13
        }
      ],
      "source": [
        "import rpy2\n",
        "from rpy2 import robjects\n",
        "robjects.r('''devtools::install_github(\"jacekpardyak/resume\")''')"
      ]
    },
    {
      "cell_type": "code",
      "source": [
        "robjects.r('''devtools::install_github(\"jacekpardyak/resume\")''')"
      ],
      "metadata": {
        "colab": {
          "base_uri": "https://localhost:8080/",
          "height": 110
        },
        "id": "0C4xyw1Cyq67",
        "outputId": "e974e837-9664-4119-9a71-81d3f0a895d9"
      },
      "execution_count": 14,
      "outputs": [
        {
          "output_type": "stream",
          "name": "stderr",
          "text": [
            "WARNING:rpy2.rinterface_lib.callbacks:R[write to console]: Skipping install of 'resume' from a github remote, the SHA1 (76c391ad) has not changed since last install.\n",
            "  Use `force = TRUE` to force installation\n",
            "\n"
          ]
        },
        {
          "output_type": "execute_result",
          "data": {
            "text/plain": [
              "<rpy2.robjects.vectors.StrVector object at 0x7dce54232300> [RTYPES.STRSXP]\n",
              "R classes: ('character',)\n",
              "['resume']"
            ],
            "text/html": [
              "\n",
              "        <span>StrVector with 1 elements.</span>\n",
              "        <table>\n",
              "        <tbody>\n",
              "          <tr>\n",
              "          \n",
              "            <td>\n",
              "            'resume'\n",
              "            </td>\n",
              "          \n",
              "          </tr>\n",
              "        </tbody>\n",
              "        </table>\n",
              "        "
            ]
          },
          "metadata": {},
          "execution_count": 14
        }
      ]
    },
    {
      "cell_type": "markdown",
      "source": [
        "# Check available `resume` templates"
      ],
      "metadata": {
        "id": "OhH6WoJ9frku"
      }
    },
    {
      "cell_type": "code",
      "source": [
        "robjects.r('''\n",
        "# begin R code\n",
        "rmarkdown::available_templates(package = \"resume\", full_path = FALSE)\n",
        "# end R code\n",
        "''')"
      ],
      "metadata": {
        "colab": {
          "base_uri": "https://localhost:8080/",
          "height": 58
        },
        "id": "bLOOwju51dnL",
        "outputId": "cdc6c483-9d1a-4fea-b63d-103090796549"
      },
      "execution_count": 15,
      "outputs": [
        {
          "output_type": "execute_result",
          "data": {
            "text/plain": [
              "<rpy2.robjects.vectors.StrVector object at 0x7dce888ed480> [RTYPES.STRSXP]\n",
              "R classes: ('character',)\n",
              "['cover_let..., 'curriculu..., 'motivatie..., 'resume']"
            ],
            "text/html": [
              "\n",
              "        <span>StrVector with 4 elements.</span>\n",
              "        <table>\n",
              "        <tbody>\n",
              "          <tr>\n",
              "          \n",
              "            <td>\n",
              "            'cover_let...\n",
              "            </td>\n",
              "          \n",
              "            <td>\n",
              "            'curriculu...\n",
              "            </td>\n",
              "          \n",
              "            <td>\n",
              "            'motivatie...\n",
              "            </td>\n",
              "          \n",
              "            <td>\n",
              "            'resume'\n",
              "            </td>\n",
              "          \n",
              "          </tr>\n",
              "        </tbody>\n",
              "        </table>\n",
              "        "
            ]
          },
          "metadata": {},
          "execution_count": 15
        }
      ]
    },
    {
      "cell_type": "markdown",
      "source": [
        "# Render Cover Letter"
      ],
      "metadata": {
        "id": "fmvBdRNUe9P9"
      }
    },
    {
      "cell_type": "code",
      "source": [
        "# default document with font changed to default Ubuntu font\n",
        "robjects.r('''\n",
        "# begin R code\n",
        "path = \"Untitled\"\n",
        "if (file.exists(path)) {unlink(path, recursive = TRUE)}\n",
        "rmarkdown::draft(paste0(path, \".Rmd\"), template=\"cover_letter\", package=\"resume\", create_dir = TRUE, edit = FALSE)\n",
        "str = readLines(paste0(path, \"/\", path, \".Rmd\"))\n",
        "str = gsub(\"Times New Roman\", \"Liberation Serif\", str)\n",
        "writeLines(str, paste0(path, \"/\", path, \".Rmd\"))\n",
        "rmarkdown::render(paste0(path, \"/\", path, \".Rmd\"))\n",
        "# end R code\n",
        "''')"
      ],
      "metadata": {
        "colab": {
          "base_uri": "https://localhost:8080/",
          "height": 286
        },
        "id": "g-aM2itdfDG9",
        "outputId": "4d41b7b7-16d4-4a6c-aa97-2295c6fb7f3b"
      },
      "execution_count": 16,
      "outputs": [
        {
          "output_type": "stream",
          "name": "stderr",
          "text": [
            "WARNING:rpy2.rinterface_lib.callbacks:R[write to console]: \n",
            "\n",
            "processing file: Untitled.Rmd\n",
            "\n"
          ]
        },
        {
          "output_type": "stream",
          "name": "stdout",
          "text": [
            "1/1\n"
          ]
        },
        {
          "output_type": "stream",
          "name": "stderr",
          "text": [
            "WARNING:rpy2.rinterface_lib.callbacks:R[write to console]: output file: Untitled.knit.md\n",
            "\n",
            "\n"
          ]
        },
        {
          "output_type": "stream",
          "name": "stdout",
          "text": [
            "/usr/bin/pandoc +RTS -K512m -RTS Untitled.knit.md --to latex --from markdown+autolink_bare_uris+tex_math_single_backslash --output Untitled.tex --lua-filter /usr/local/lib/R/site-library/rmarkdown/rmarkdown/lua/pagebreak.lua --lua-filter /usr/local/lib/R/site-library/rmarkdown/rmarkdown/lua/latex-div.lua --self-contained --template /usr/local/lib/R/site-library/resume/rmarkdown/templates/cover_letter/resources/template.tex --highlight-style tango --pdf-engine xelatex \n"
          ]
        },
        {
          "output_type": "stream",
          "name": "stderr",
          "text": [
            "WARNING:rpy2.rinterface_lib.callbacks:R[write to console]: \n",
            "Output created: Untitled.pdf\n",
            "\n"
          ]
        },
        {
          "output_type": "execute_result",
          "data": {
            "text/plain": [
              "<rpy2.robjects.vectors.StrVector object at 0x7dce78152a80> [RTYPES.STRSXP]\n",
              "R classes: ('character',)\n",
              "['/content/Untitled/Untitled.pdf']"
            ],
            "text/html": [
              "\n",
              "        <span>StrVector with 1 elements.</span>\n",
              "        <table>\n",
              "        <tbody>\n",
              "          <tr>\n",
              "          \n",
              "            <td>\n",
              "            '/content/Untitled/Untitled.pdf'\n",
              "            </td>\n",
              "          \n",
              "          </tr>\n",
              "        </tbody>\n",
              "        </table>\n",
              "        "
            ]
          },
          "metadata": {},
          "execution_count": 16
        }
      ]
    },
    {
      "cell_type": "code",
      "source": [
        "# modify YAML as you wish and render it\n",
        "path = \"Untitled\"\n",
        "with open(path + \"/\" + path + \".Rmd\", \"w\") as file:\n",
        "    file.writelines(\n",
        "'''\n",
        "---\n",
        "applicant:\n",
        "    name: Томас із Вікіпедії\n",
        "    address:\n",
        "      - line: вул. Гродзька 31\n",
        "      - line: 31-234 Краків\n",
        "      - line: Польща\n",
        "\n",
        "employer:\n",
        "    name: Компанія «Ян Ковальський і син»\n",
        "    address:\n",
        "      - line: вул. Межигірська, 63\n",
        "      - line: Київ\n",
        "      - line: Україна\n",
        "\n",
        "header: >\n",
        "  Я редактор Вікіпедії, безкоштовної та вільної енциклопедії. Мета нашого проекту – зібрати всі знання, розвинути та поширити їх безкоштовно на благо людства. Водночас ми дуже поважаємо авторські права, і саме з цього приводу я до вас звертаюся.\n",
        "\n",
        "body: >\n",
        "  На вашому сайті є чудові фотографії центру Торуня. Ми будемо дуже вдячні, якщо ви надасте нам дозвіл використовувати їх у Вікіпедії (включаючи статті про Торунь), якщо ви володієте авторським правом на це. Оскільки ми надаємо великого значення авторському праву, ми не будемо публікувати ці матеріали без прямої згоди автора.\n",
        "\n",
        "tail: >\n",
        "  Дуже дякую за ваш час,\n",
        "\n",
        "output:\n",
        "  resume::cover_letter:\n",
        "    latex_engine: xelatex\n",
        "    keep_tex: true\n",
        "  language: ukrainian\n",
        "  font_size: 11pt\n",
        "  paper_size: a4paper\n",
        "  font: Liberation Serif\n",
        "---\n",
        "'''\n",
        ")\n",
        "\n",
        "robjects.r('''\n",
        "# begin R code\n",
        "path = \"Untitled\"\n",
        "rmarkdown::render(paste0(path, \"/\", path, \".Rmd\"))\n",
        "# end R code\n",
        "''')"
      ],
      "metadata": {
        "colab": {
          "base_uri": "https://localhost:8080/",
          "height": 286
        },
        "id": "n_GFXla4fDR-",
        "outputId": "25adb922-5e26-469e-91b8-28e5ad91f911"
      },
      "execution_count": 17,
      "outputs": [
        {
          "output_type": "stream",
          "name": "stderr",
          "text": [
            "WARNING:rpy2.rinterface_lib.callbacks:R[write to console]: \n",
            "\n",
            "processing file: Untitled.Rmd\n",
            "\n"
          ]
        },
        {
          "output_type": "stream",
          "name": "stdout",
          "text": [
            "1/1\n"
          ]
        },
        {
          "output_type": "stream",
          "name": "stderr",
          "text": [
            "WARNING:rpy2.rinterface_lib.callbacks:R[write to console]: output file: Untitled.knit.md\n",
            "\n",
            "\n"
          ]
        },
        {
          "output_type": "stream",
          "name": "stdout",
          "text": [
            "/usr/bin/pandoc +RTS -K512m -RTS Untitled.knit.md --to latex --from markdown+autolink_bare_uris+tex_math_single_backslash --output Untitled.tex --lua-filter /usr/local/lib/R/site-library/rmarkdown/rmarkdown/lua/pagebreak.lua --lua-filter /usr/local/lib/R/site-library/rmarkdown/rmarkdown/lua/latex-div.lua --self-contained --template /usr/local/lib/R/site-library/resume/rmarkdown/templates/cover_letter/resources/template.tex --highlight-style tango --pdf-engine xelatex \n"
          ]
        },
        {
          "output_type": "stream",
          "name": "stderr",
          "text": [
            "WARNING:rpy2.rinterface_lib.callbacks:R[write to console]: \n",
            "Output created: Untitled.pdf\n",
            "\n"
          ]
        },
        {
          "output_type": "execute_result",
          "data": {
            "text/plain": [
              "<rpy2.robjects.vectors.StrVector object at 0x7dce881c6400> [RTYPES.STRSXP]\n",
              "R classes: ('character',)\n",
              "['/content/Untitled/Untitled.pdf']"
            ],
            "text/html": [
              "\n",
              "        <span>StrVector with 1 elements.</span>\n",
              "        <table>\n",
              "        <tbody>\n",
              "          <tr>\n",
              "          \n",
              "            <td>\n",
              "            '/content/Untitled/Untitled.pdf'\n",
              "            </td>\n",
              "          \n",
              "          </tr>\n",
              "        </tbody>\n",
              "        </table>\n",
              "        "
            ]
          },
          "metadata": {},
          "execution_count": 17
        }
      ]
    },
    {
      "cell_type": "markdown",
      "source": [
        "# Render Résumé"
      ],
      "metadata": {
        "id": "KHKkU__cdsuH"
      }
    },
    {
      "cell_type": "code",
      "source": [
        "# default document with font changed to default Ubuntu font\n",
        "robjects.r('''\n",
        "# begin R code\n",
        "path = \"Untitled\"\n",
        "if (file.exists(path)) {unlink(path, recursive = TRUE)}\n",
        "rmarkdown::draft(paste0(path, \".Rmd\"), template=\"resume\", package=\"resume\", create_dir = TRUE, edit = FALSE)\n",
        "str = readLines(paste0(path, \"/\", path, \".Rmd\"))\n",
        "str = gsub(\"Arial\", \"Liberation Serif\", str)\n",
        "writeLines(str, paste0(path, \"/\", path, \".Rmd\"))\n",
        "rmarkdown::render(paste0(path, \"/\", path, \".Rmd\"))\n",
        "# end R code\n",
        "''')"
      ],
      "metadata": {
        "colab": {
          "base_uri": "https://localhost:8080/",
          "height": 286
        },
        "id": "HpS6fG_U13jr",
        "outputId": "4fc4ee21-becd-471d-87b9-04c3a5b86a2b"
      },
      "execution_count": 18,
      "outputs": [
        {
          "output_type": "stream",
          "name": "stderr",
          "text": [
            "WARNING:rpy2.rinterface_lib.callbacks:R[write to console]: \n",
            "\n",
            "processing file: Untitled.Rmd\n",
            "\n"
          ]
        },
        {
          "output_type": "stream",
          "name": "stdout",
          "text": [
            "1/1\n"
          ]
        },
        {
          "output_type": "stream",
          "name": "stderr",
          "text": [
            "WARNING:rpy2.rinterface_lib.callbacks:R[write to console]: output file: Untitled.knit.md\n",
            "\n",
            "\n"
          ]
        },
        {
          "output_type": "stream",
          "name": "stdout",
          "text": [
            "/usr/bin/pandoc +RTS -K512m -RTS Untitled.knit.md --to latex --from markdown+autolink_bare_uris+tex_math_single_backslash --output Untitled.tex --lua-filter /usr/local/lib/R/site-library/rmarkdown/rmarkdown/lua/pagebreak.lua --lua-filter /usr/local/lib/R/site-library/rmarkdown/rmarkdown/lua/latex-div.lua --self-contained --template /usr/local/lib/R/site-library/resume/rmarkdown/templates/resume/resources/template.tex --highlight-style tango --pdf-engine xelatex \n"
          ]
        },
        {
          "output_type": "stream",
          "name": "stderr",
          "text": [
            "WARNING:rpy2.rinterface_lib.callbacks:R[write to console]: \n",
            "Output created: Untitled.pdf\n",
            "\n"
          ]
        },
        {
          "output_type": "execute_result",
          "data": {
            "text/plain": [
              "<rpy2.robjects.vectors.StrVector object at 0x7dce887dad40> [RTYPES.STRSXP]\n",
              "R classes: ('character',)\n",
              "['/content/Untitled/Untitled.pdf']"
            ],
            "text/html": [
              "\n",
              "        <span>StrVector with 1 elements.</span>\n",
              "        <table>\n",
              "        <tbody>\n",
              "          <tr>\n",
              "          \n",
              "            <td>\n",
              "            '/content/Untitled/Untitled.pdf'\n",
              "            </td>\n",
              "          \n",
              "          </tr>\n",
              "        </tbody>\n",
              "        </table>\n",
              "        "
            ]
          },
          "metadata": {},
          "execution_count": 18
        }
      ]
    },
    {
      "cell_type": "code",
      "source": [
        "# modify YAML as you wish and render it\n",
        "path = \"Untitled\"\n",
        "with open(path + \"/\" + path + \".Rmd\", \"w\") as file:\n",
        "    file.writelines(\n",
        "'''\n",
        "---\n",
        "contact:\n",
        "    name: Jacek Hammond\n",
        "    degree: MSC\n",
        "    street: Tampa\n",
        "    city: Florida\n",
        "    telephone: 555-813-4458\n",
        "    email: audra.hammond@email.com\n",
        "\n",
        "summary: >\n",
        "  Sales manager with five years of experience eager to use relationship management, organizational and research skills to optimize sales strategies.\n",
        "\n",
        "education:\n",
        "  - school: University of Eastern Shore\n",
        "    title: Bachelor of Arts in sales\n",
        "    year: 2003\n",
        "  - school: Seinäjoki College, Finland\n",
        "    title: Graduate\n",
        "    year: 1998\n",
        "experience:\n",
        "  - employer: Industry Plus Magazine\n",
        "    city: Tampa, Florida\n",
        "    position: Sales Manager\n",
        "    period: February 2022–Current\n",
        "    duties:\n",
        "    - duty: Assist sales team to achieve profit goals, averaging $200,000 in annual client revenue\n",
        "    - duty: Oversee development of a 15-member sales team by promoting results-driven strategies\n",
        "    - duty: Develop client acquisition and lead generation strategies by conducting market research\n",
        "    - duty: Project expected sales volume for existing accounts to properly allocate budget\n",
        "    - duty: Analyze budget to reduce expenditure and optimize profits\n",
        "  - employer: Monkey Foot Publishing\n",
        "    city: Tampa, Florida\n",
        "    position: Assistant Relationship\n",
        "    period: July 2018–February 2022\n",
        "    duties:\n",
        "    - duty: Developed a territory plan and make adjustments based on analysis of competitor behavior\n",
        "    - duty: Educated clients on new products and services to optimize upselling tactics\n",
        "    - duty: Maintained record of customer comments, complaints and inquiries\n",
        "\n",
        "skills:\n",
        "  - skill: Relationship management\n",
        "  - skill: Time management\n",
        "  - skill: Consultative sales\n",
        "  - skill: Communication\n",
        "\n",
        "output:\n",
        "  resume::resume:\n",
        "    latex_engine: xelatex\n",
        "    keep_tex: true\n",
        "  font_size: 11pt\n",
        "  paper_size: letterpaper\n",
        "  font: Liberation Serif\n",
        "---\n",
        "'''\n",
        ")\n",
        "\n",
        "robjects.r('''\n",
        "# begin R code\n",
        "path = \"Untitled\"\n",
        "rmarkdown::render(paste0(path, \"/\", path, \".Rmd\"))\n",
        "# end R code\n",
        "''')"
      ],
      "metadata": {
        "colab": {
          "base_uri": "https://localhost:8080/",
          "height": 286
        },
        "id": "Vsak1Hdq4TRr",
        "outputId": "721567d2-1bbc-4002-a156-a4c3cd4a98ef"
      },
      "execution_count": 19,
      "outputs": [
        {
          "output_type": "stream",
          "name": "stderr",
          "text": [
            "WARNING:rpy2.rinterface_lib.callbacks:R[write to console]: \n",
            "\n",
            "processing file: Untitled.Rmd\n",
            "\n"
          ]
        },
        {
          "output_type": "stream",
          "name": "stdout",
          "text": [
            "1/1\n"
          ]
        },
        {
          "output_type": "stream",
          "name": "stderr",
          "text": [
            "WARNING:rpy2.rinterface_lib.callbacks:R[write to console]: output file: Untitled.knit.md\n",
            "\n",
            "\n"
          ]
        },
        {
          "output_type": "stream",
          "name": "stdout",
          "text": [
            "/usr/bin/pandoc +RTS -K512m -RTS Untitled.knit.md --to latex --from markdown+autolink_bare_uris+tex_math_single_backslash --output Untitled.tex --lua-filter /usr/local/lib/R/site-library/rmarkdown/rmarkdown/lua/pagebreak.lua --lua-filter /usr/local/lib/R/site-library/rmarkdown/rmarkdown/lua/latex-div.lua --self-contained --template /usr/local/lib/R/site-library/resume/rmarkdown/templates/resume/resources/template.tex --highlight-style tango --pdf-engine xelatex \n"
          ]
        },
        {
          "output_type": "stream",
          "name": "stderr",
          "text": [
            "WARNING:rpy2.rinterface_lib.callbacks:R[write to console]: \n",
            "Output created: Untitled.pdf\n",
            "\n"
          ]
        },
        {
          "output_type": "execute_result",
          "data": {
            "text/plain": [
              "<rpy2.robjects.vectors.StrVector object at 0x7dce88902740> [RTYPES.STRSXP]\n",
              "R classes: ('character',)\n",
              "['/content/Untitled/Untitled.pdf']"
            ],
            "text/html": [
              "\n",
              "        <span>StrVector with 1 elements.</span>\n",
              "        <table>\n",
              "        <tbody>\n",
              "          <tr>\n",
              "          \n",
              "            <td>\n",
              "            '/content/Untitled/Untitled.pdf'\n",
              "            </td>\n",
              "          \n",
              "          </tr>\n",
              "        </tbody>\n",
              "        </table>\n",
              "        "
            ]
          },
          "metadata": {},
          "execution_count": 19
        }
      ]
    }
  ]
}