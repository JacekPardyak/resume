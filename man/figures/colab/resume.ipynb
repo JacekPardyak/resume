{
  "nbformat": 4,
  "nbformat_minor": 0,
  "metadata": {
    "colab": {
      "provenance": [],
      "authorship_tag": "ABX9TyPCfcmIFCO/VXSD2AD1H/Z3",
      "include_colab_link": true
    },
    "kernelspec": {
      "name": "ir",
      "display_name": "R"
    },
    "language_info": {
      "name": "R"
    }
  },
  "cells": [
    {
      "cell_type": "markdown",
      "metadata": {
        "id": "view-in-github",
        "colab_type": "text"
      },
      "source": [
        "<a href=\"https://colab.research.google.com/github/JacekPardyak/resume/blob/master/man/figures/colab/resume.ipynb\" target=\"_parent\"><img src=\"https://colab.research.google.com/assets/colab-badge.svg\" alt=\"Open In Colab\"/></a>"
      ]
    },
    {
      "cell_type": "markdown",
      "source": [
        "# Installation"
      ],
      "metadata": {
        "id": "bytqpk4ofMG2"
      }
    },
    {
      "cell_type": "code",
      "source": [
        "# install texlive with xetex engine\n",
        "system('sudo apt-get update -y', intern = TRUE)\n",
        "system('sudo apt-get install -y texlive-xetex', intern = TRUE)\n",
        "# you add support for your language\n",
        "system('sudo apt-get install -y texlive-lang-polish', intern = TRUE)\n",
        "system('sudo apt-get install -y texlive-lang-cyrillic', intern = TRUE)"
      ],
      "metadata": {
        "colab": {
          "base_uri": "https://localhost:8080/",
          "height": 156
        },
        "id": "RSkFIITWO3_M",
        "outputId": "dc996a15-0841-46d4-ee25-95abaaec52fa"
      },
      "execution_count": 56,
      "outputs": [
        {
          "output_type": "display_data",
          "data": {
            "text/html": [
              "<style>\n",
              ".list-inline {list-style: none; margin:0; padding: 0}\n",
              ".list-inline>li {display: inline-block}\n",
              ".list-inline>li:not(:last-child)::after {content: \"\\00b7\"; padding: 0 .5ex}\n",
              "</style>\n",
              "<ol class=list-inline><li>'Hit:1 https://cloud.r-project.org/bin/linux/ubuntu jammy-cran40/ InRelease'</li><li>'Get:2 http://security.ubuntu.com/ubuntu jammy-security InRelease [110 kB]'</li><li><span style=white-space:pre-wrap>'Hit:3 https://developer.download.nvidia.com/compute/cuda/repos/ubuntu2204/x86_64  InRelease'</span></li><li>'Hit:4 http://archive.ubuntu.com/ubuntu jammy InRelease'</li><li>'Get:5 http://archive.ubuntu.com/ubuntu jammy-updates InRelease [119 kB]'</li><li>'Get:6 http://archive.ubuntu.com/ubuntu jammy-backports InRelease [109 kB]'</li><li>'Hit:7 https://ppa.launchpadcontent.net/c2d4u.team/c2d4u4.0+/ubuntu jammy InRelease'</li><li>'Get:8 http://archive.ubuntu.com/ubuntu jammy-updates/main amd64 Packages [1,136 kB]'</li><li>'Hit:9 https://ppa.launchpadcontent.net/deadsnakes/ppa/ubuntu jammy InRelease'</li><li>'Hit:10 https://ppa.launchpadcontent.net/graphics-drivers/ppa/ubuntu jammy InRelease'</li><li>'Hit:11 https://ppa.launchpadcontent.net/ubuntugis/ppa/ubuntu jammy InRelease'</li><li>'Fetched 1,474 kB in 3s (556 kB/s)'</li><li>'Reading package lists...'</li></ol>\n"
            ],
            "text/markdown": "1. 'Hit:1 https://cloud.r-project.org/bin/linux/ubuntu jammy-cran40/ InRelease'\n2. 'Get:2 http://security.ubuntu.com/ubuntu jammy-security InRelease [110 kB]'\n3. <span style=white-space:pre-wrap>'Hit:3 https://developer.download.nvidia.com/compute/cuda/repos/ubuntu2204/x86_64  InRelease'</span>\n4. 'Hit:4 http://archive.ubuntu.com/ubuntu jammy InRelease'\n5. 'Get:5 http://archive.ubuntu.com/ubuntu jammy-updates InRelease [119 kB]'\n6. 'Get:6 http://archive.ubuntu.com/ubuntu jammy-backports InRelease [109 kB]'\n7. 'Hit:7 https://ppa.launchpadcontent.net/c2d4u.team/c2d4u4.0+/ubuntu jammy InRelease'\n8. 'Get:8 http://archive.ubuntu.com/ubuntu jammy-updates/main amd64 Packages [1,136 kB]'\n9. 'Hit:9 https://ppa.launchpadcontent.net/deadsnakes/ppa/ubuntu jammy InRelease'\n10. 'Hit:10 https://ppa.launchpadcontent.net/graphics-drivers/ppa/ubuntu jammy InRelease'\n11. 'Hit:11 https://ppa.launchpadcontent.net/ubuntugis/ppa/ubuntu jammy InRelease'\n12. 'Fetched 1,474 kB in 3s (556 kB/s)'\n13. 'Reading package lists...'\n\n\n",
            "text/latex": "\\begin{enumerate*}\n\\item 'Hit:1 https://cloud.r-project.org/bin/linux/ubuntu jammy-cran40/ InRelease'\n\\item 'Get:2 http://security.ubuntu.com/ubuntu jammy-security InRelease {[}110 kB{]}'\n\\item 'Hit:3 https://developer.download.nvidia.com/compute/cuda/repos/ubuntu2204/x86\\_64  InRelease'\n\\item 'Hit:4 http://archive.ubuntu.com/ubuntu jammy InRelease'\n\\item 'Get:5 http://archive.ubuntu.com/ubuntu jammy-updates InRelease {[}119 kB{]}'\n\\item 'Get:6 http://archive.ubuntu.com/ubuntu jammy-backports InRelease {[}109 kB{]}'\n\\item 'Hit:7 https://ppa.launchpadcontent.net/c2d4u.team/c2d4u4.0+/ubuntu jammy InRelease'\n\\item 'Get:8 http://archive.ubuntu.com/ubuntu jammy-updates/main amd64 Packages {[}1,136 kB{]}'\n\\item 'Hit:9 https://ppa.launchpadcontent.net/deadsnakes/ppa/ubuntu jammy InRelease'\n\\item 'Hit:10 https://ppa.launchpadcontent.net/graphics-drivers/ppa/ubuntu jammy InRelease'\n\\item 'Hit:11 https://ppa.launchpadcontent.net/ubuntugis/ppa/ubuntu jammy InRelease'\n\\item 'Fetched 1,474 kB in 3s (556 kB/s)'\n\\item 'Reading package lists...'\n\\end{enumerate*}\n",
            "text/plain": [
              " [1] \"Hit:1 https://cloud.r-project.org/bin/linux/ubuntu jammy-cran40/ InRelease\"                 \n",
              " [2] \"Get:2 http://security.ubuntu.com/ubuntu jammy-security InRelease [110 kB]\"                  \n",
              " [3] \"Hit:3 https://developer.download.nvidia.com/compute/cuda/repos/ubuntu2204/x86_64  InRelease\"\n",
              " [4] \"Hit:4 http://archive.ubuntu.com/ubuntu jammy InRelease\"                                     \n",
              " [5] \"Get:5 http://archive.ubuntu.com/ubuntu jammy-updates InRelease [119 kB]\"                    \n",
              " [6] \"Get:6 http://archive.ubuntu.com/ubuntu jammy-backports InRelease [109 kB]\"                  \n",
              " [7] \"Hit:7 https://ppa.launchpadcontent.net/c2d4u.team/c2d4u4.0+/ubuntu jammy InRelease\"         \n",
              " [8] \"Get:8 http://archive.ubuntu.com/ubuntu jammy-updates/main amd64 Packages [1,136 kB]\"        \n",
              " [9] \"Hit:9 https://ppa.launchpadcontent.net/deadsnakes/ppa/ubuntu jammy InRelease\"               \n",
              "[10] \"Hit:10 https://ppa.launchpadcontent.net/graphics-drivers/ppa/ubuntu jammy InRelease\"        \n",
              "[11] \"Hit:11 https://ppa.launchpadcontent.net/ubuntugis/ppa/ubuntu jammy InRelease\"               \n",
              "[12] \"Fetched 1,474 kB in 3s (556 kB/s)\"                                                          \n",
              "[13] \"Reading package lists...\"                                                                   "
            ]
          },
          "metadata": {}
        },
        {
          "output_type": "display_data",
          "data": {
            "text/html": [
              "<style>\n",
              ".list-inline {list-style: none; margin:0; padding: 0}\n",
              ".list-inline>li {display: inline-block}\n",
              ".list-inline>li:not(:last-child)::after {content: \"\\00b7\"; padding: 0 .5ex}\n",
              "</style>\n",
              "<ol class=list-inline><li>'Reading package lists...'</li><li>'Building dependency tree...'</li><li>'Reading state information...'</li><li>'texlive-xetex is already the newest version (2021.20220204-1).'</li><li>'0 upgraded, 0 newly installed, 0 to remove and 16 not upgraded.'</li></ol>\n"
            ],
            "text/markdown": "1. 'Reading package lists...'\n2. 'Building dependency tree...'\n3. 'Reading state information...'\n4. 'texlive-xetex is already the newest version (2021.20220204-1).'\n5. '0 upgraded, 0 newly installed, 0 to remove and 16 not upgraded.'\n\n\n",
            "text/latex": "\\begin{enumerate*}\n\\item 'Reading package lists...'\n\\item 'Building dependency tree...'\n\\item 'Reading state information...'\n\\item 'texlive-xetex is already the newest version (2021.20220204-1).'\n\\item '0 upgraded, 0 newly installed, 0 to remove and 16 not upgraded.'\n\\end{enumerate*}\n",
            "text/plain": [
              "[1] \"Reading package lists...\"                                       \n",
              "[2] \"Building dependency tree...\"                                    \n",
              "[3] \"Reading state information...\"                                   \n",
              "[4] \"texlive-xetex is already the newest version (2021.20220204-1).\" \n",
              "[5] \"0 upgraded, 0 newly installed, 0 to remove and 16 not upgraded.\""
            ]
          },
          "metadata": {}
        },
        {
          "output_type": "display_data",
          "data": {
            "text/html": [
              "<style>\n",
              ".list-inline {list-style: none; margin:0; padding: 0}\n",
              ".list-inline>li {display: inline-block}\n",
              ".list-inline>li:not(:last-child)::after {content: \"\\00b7\"; padding: 0 .5ex}\n",
              "</style>\n",
              "<ol class=list-inline><li>'Reading package lists...'</li><li>'Building dependency tree...'</li><li>'Reading state information...'</li><li>'texlive-lang-polish is already the newest version (2021.20220204-1).'</li><li>'0 upgraded, 0 newly installed, 0 to remove and 16 not upgraded.'</li></ol>\n"
            ],
            "text/markdown": "1. 'Reading package lists...'\n2. 'Building dependency tree...'\n3. 'Reading state information...'\n4. 'texlive-lang-polish is already the newest version (2021.20220204-1).'\n5. '0 upgraded, 0 newly installed, 0 to remove and 16 not upgraded.'\n\n\n",
            "text/latex": "\\begin{enumerate*}\n\\item 'Reading package lists...'\n\\item 'Building dependency tree...'\n\\item 'Reading state information...'\n\\item 'texlive-lang-polish is already the newest version (2021.20220204-1).'\n\\item '0 upgraded, 0 newly installed, 0 to remove and 16 not upgraded.'\n\\end{enumerate*}\n",
            "text/plain": [
              "[1] \"Reading package lists...\"                                            \n",
              "[2] \"Building dependency tree...\"                                         \n",
              "[3] \"Reading state information...\"                                        \n",
              "[4] \"texlive-lang-polish is already the newest version (2021.20220204-1).\"\n",
              "[5] \"0 upgraded, 0 newly installed, 0 to remove and 16 not upgraded.\"     "
            ]
          },
          "metadata": {}
        },
        {
          "output_type": "display_data",
          "data": {
            "text/html": [
              "<style>\n",
              ".list-inline {list-style: none; margin:0; padding: 0}\n",
              ".list-inline>li {display: inline-block}\n",
              ".list-inline>li:not(:last-child)::after {content: \"\\00b7\"; padding: 0 .5ex}\n",
              "</style>\n",
              "<ol class=list-inline><li>'Reading package lists...'</li><li>'Building dependency tree...'</li><li>'Reading state information...'</li><li>'texlive-lang-cyrillic is already the newest version (2021.20220204-1).'</li><li>'0 upgraded, 0 newly installed, 0 to remove and 16 not upgraded.'</li></ol>\n"
            ],
            "text/markdown": "1. 'Reading package lists...'\n2. 'Building dependency tree...'\n3. 'Reading state information...'\n4. 'texlive-lang-cyrillic is already the newest version (2021.20220204-1).'\n5. '0 upgraded, 0 newly installed, 0 to remove and 16 not upgraded.'\n\n\n",
            "text/latex": "\\begin{enumerate*}\n\\item 'Reading package lists...'\n\\item 'Building dependency tree...'\n\\item 'Reading state information...'\n\\item 'texlive-lang-cyrillic is already the newest version (2021.20220204-1).'\n\\item '0 upgraded, 0 newly installed, 0 to remove and 16 not upgraded.'\n\\end{enumerate*}\n",
            "text/plain": [
              "[1] \"Reading package lists...\"                                              \n",
              "[2] \"Building dependency tree...\"                                           \n",
              "[3] \"Reading state information...\"                                          \n",
              "[4] \"texlive-lang-cyrillic is already the newest version (2021.20220204-1).\"\n",
              "[5] \"0 upgraded, 0 newly installed, 0 to remove and 16 not upgraded.\"       "
            ]
          },
          "metadata": {}
        }
      ]
    },
    {
      "cell_type": "code",
      "execution_count": 57,
      "metadata": {
        "id": "ZIp4ZtMBWtI4",
        "colab": {
          "base_uri": "https://localhost:8080/"
        },
        "outputId": "dfcdd516-c697-4ccd-bace-75a988ca2a45"
      },
      "outputs": [
        {
          "output_type": "stream",
          "name": "stderr",
          "text": [
            "Downloading GitHub repo jacekpardyak/resume@HEAD\n",
            "\n"
          ]
        },
        {
          "output_type": "stream",
          "name": "stdout",
          "text": [
            "\n",
            "\u001b[36m──\u001b[39m \u001b[36mR CMD build\u001b[39m \u001b[36m─────────────────────────────────────────────────────────────────\u001b[39m\n",
            "* checking for file ‘/tmp/RtmpKulRcW/remotes14741d6cc3/JacekPardyak-resume-76c391a/DESCRIPTION’ ... OK\n",
            "* preparing ‘resume’:\n",
            "* checking DESCRIPTION meta-information ... OK\n",
            "* checking for LF line-endings in source and make files and shell scripts\n",
            "* checking for empty or unneeded directories\n",
            "* building ‘resume_1.0.tar.gz’\n",
            "\n"
          ]
        },
        {
          "output_type": "stream",
          "name": "stderr",
          "text": [
            "Installing package into ‘/usr/local/lib/R/site-library’\n",
            "(as ‘lib’ is unspecified)\n",
            "\n"
          ]
        }
      ],
      "source": [
        "devtools::install_github(\"jacekpardyak/resume\")\n",
        "library(magrittr)\n",
        "writeLinesTidy = function(text, con){writeLines(text, con ); return(con)}"
      ]
    },
    {
      "cell_type": "code",
      "source": [
        "'---\n",
        "title: My Document\n",
        "output: pdf_document\n",
        "params:\n",
        "  year: 2018\n",
        "  region: Europe\n",
        "  printcode: TRUE\n",
        "  data: file.csv\n",
        "---' %>% writeLinesTidy(\"MyDocument.Rmd\") %>%\n",
        "  rmarkdown::render(params = list(\n",
        "  year = 2017,\n",
        "  region = \"Asia\",\n",
        "  printcode = FALSE,\n",
        "  data = \"file2.csv\"\n",
        "))"
      ],
      "metadata": {
        "id": "gXIBm4Uhb1p7",
        "colab": {
          "base_uri": "https://localhost:8080/"
        },
        "outputId": "9bc77442-b3d8-4656-a22d-2496d4ca5bb3"
      },
      "execution_count": 58,
      "outputs": [
        {
          "output_type": "stream",
          "name": "stderr",
          "text": [
            "\n",
            "\n",
            "processing file: MyDocument.Rmd\n",
            "\n"
          ]
        },
        {
          "output_type": "stream",
          "name": "stdout",
          "text": [
            "1/1\n"
          ]
        },
        {
          "output_type": "stream",
          "name": "stderr",
          "text": [
            "output file: MyDocument.knit.md\n",
            "\n",
            "\n"
          ]
        },
        {
          "output_type": "stream",
          "name": "stdout",
          "text": [
            "/usr/bin/pandoc +RTS -K512m -RTS MyDocument.knit.md --to latex --from markdown+autolink_bare_uris+tex_math_single_backslash --output MyDocument.tex --lua-filter /usr/local/lib/R/site-library/rmarkdown/rmarkdown/lua/pagebreak.lua --lua-filter /usr/local/lib/R/site-library/rmarkdown/rmarkdown/lua/latex-div.lua --self-contained --highlight-style tango --pdf-engine pdflatex --variable graphics --variable 'geometry:margin=1in' \n"
          ]
        },
        {
          "output_type": "stream",
          "name": "stderr",
          "text": [
            "\n",
            "Output created: MyDocument.pdf\n",
            "\n"
          ]
        }
      ]
    },
    {
      "cell_type": "markdown",
      "source": [
        "# Check available `resume` templates"
      ],
      "metadata": {
        "id": "1nhl7p-uui-Z"
      }
    },
    {
      "cell_type": "code",
      "source": [
        "rmarkdown::available_templates(package = \"resume\", full_path = FALSE)"
      ],
      "metadata": {
        "colab": {
          "base_uri": "https://localhost:8080/",
          "height": 34
        },
        "id": "X6stDDBKkes6",
        "outputId": "79ce037c-587c-4ade-ee6b-dc1780591775"
      },
      "execution_count": 59,
      "outputs": [
        {
          "output_type": "display_data",
          "data": {
            "text/html": [
              "<style>\n",
              ".list-inline {list-style: none; margin:0; padding: 0}\n",
              ".list-inline>li {display: inline-block}\n",
              ".list-inline>li:not(:last-child)::after {content: \"\\00b7\"; padding: 0 .5ex}\n",
              "</style>\n",
              "<ol class=list-inline><li>'cover_letter'</li><li>'curriculum_vitae'</li><li>'motivatiebrief'</li><li>'resume'</li></ol>\n"
            ],
            "text/markdown": "1. 'cover_letter'\n2. 'curriculum_vitae'\n3. 'motivatiebrief'\n4. 'resume'\n\n\n",
            "text/latex": "\\begin{enumerate*}\n\\item 'cover\\_letter'\n\\item 'curriculum\\_vitae'\n\\item 'motivatiebrief'\n\\item 'resume'\n\\end{enumerate*}\n",
            "text/plain": [
              "[1] \"cover_letter\"     \"curriculum_vitae\" \"motivatiebrief\"   \"resume\"          "
            ]
          },
          "metadata": {}
        }
      ]
    },
    {
      "cell_type": "markdown",
      "source": [
        "# Render Cover Letter"
      ],
      "metadata": {
        "id": "g7wdurbeRZ9R"
      }
    },
    {
      "cell_type": "code",
      "source": [
        "# default document with font changed to default Ubuntu font\n",
        "path = \"Untitled\"\n",
        "if (file.exists(path)) {unlink(path, recursive = TRUE)}\n",
        "rmarkdown::draft(paste0(path, \".Rmd\"), template=\"cover_letter\", package=\"resume\", create_dir = TRUE, edit = FALSE)\n",
        "# get name of font and use it to update the template\n",
        "# system('fc-list', intern = TRUE)\n",
        "paste0(path, \"/\", path, \".Rmd\") %>% readLines() %>%\n",
        "  gsub(\"Times New Roman\", \"Liberation Serif\",. ) %>%\n",
        "  writeLinesTidy(paste0(path, \"/\", path, \".Rmd\")) %>%\n",
        "  rmarkdown::render()"
      ],
      "metadata": {
        "colab": {
          "base_uri": "https://localhost:8080/"
        },
        "id": "fMsTym9sloeL",
        "outputId": "19940e79-25fd-4852-e0ab-3d9dd0589b0c"
      },
      "execution_count": 60,
      "outputs": [
        {
          "output_type": "stream",
          "name": "stderr",
          "text": [
            "\n",
            "\n",
            "processing file: Untitled.Rmd\n",
            "\n"
          ]
        },
        {
          "output_type": "stream",
          "name": "stdout",
          "text": [
            "1/1\n"
          ]
        },
        {
          "output_type": "stream",
          "name": "stderr",
          "text": [
            "output file: Untitled.knit.md\n",
            "\n",
            "\n"
          ]
        },
        {
          "output_type": "stream",
          "name": "stdout",
          "text": [
            "/usr/bin/pandoc +RTS -K512m -RTS Untitled.knit.md --to latex --from markdown+autolink_bare_uris+tex_math_single_backslash --output Untitled.tex --lua-filter /usr/local/lib/R/site-library/rmarkdown/rmarkdown/lua/pagebreak.lua --lua-filter /usr/local/lib/R/site-library/rmarkdown/rmarkdown/lua/latex-div.lua --self-contained --template /usr/local/lib/R/site-library/resume/rmarkdown/templates/cover_letter/resources/template.tex --highlight-style tango --pdf-engine xelatex \n"
          ]
        },
        {
          "output_type": "stream",
          "name": "stderr",
          "text": [
            "\n",
            "Output created: Untitled.pdf\n",
            "\n"
          ]
        }
      ]
    },
    {
      "cell_type": "code",
      "source": [
        "# modify YAML as you wish and render it\n",
        "'---\n",
        "applicant:\n",
        "    name: Томас із Вікіпедії\n",
        "    address:\n",
        "      - line: вул. Гродзька 31\n",
        "      - line: 31-234 Краків\n",
        "      - line: Польща\n",
        "\n",
        "employer:\n",
        "    name: Компанія «Ян Ковальський і син»\n",
        "    address:\n",
        "      - line: вул. Межигірська, 63\n",
        "      - line: Київ\n",
        "      - line: Україна\n",
        "\n",
        "header: >\n",
        "  Я редактор Вікіпедії, безкоштовної та вільної енциклопедії. Мета нашого проекту – зібрати всі знання, розвинути та поширити їх безкоштовно на благо людства. Водночас ми дуже поважаємо авторські права, і саме з цього приводу я до вас звертаюся.\n",
        "\n",
        "body: >\n",
        "  На вашому сайті є чудові фотографії центру Торуня. Ми будемо дуже вдячні, якщо ви надасте нам дозвіл використовувати їх у Вікіпедії (включаючи статті про Торунь), якщо ви володієте авторським правом на це. Оскільки ми надаємо великого значення авторському праву, ми не будемо публікувати ці матеріали без прямої згоди автора.\n",
        "\n",
        "tail: >\n",
        "  Дуже дякую за ваш час,\n",
        "\n",
        "output:\n",
        "  resume::cover_letter:\n",
        "    latex_engine: xelatex\n",
        "    keep_tex: true\n",
        "  language: ukrainian\n",
        "  font_size: 11pt\n",
        "  paper_size: a4paper\n",
        "  font: Liberation Serif\n",
        "---\n",
        "' %>% writeLinesTidy(paste0(path, \"/\", path, \".Rmd\")) %>%\n",
        "  rmarkdown::render()"
      ],
      "metadata": {
        "colab": {
          "base_uri": "https://localhost:8080/"
        },
        "id": "wQPq8h3y8jac",
        "outputId": "497af098-f57c-4615-fb3c-3229714e5077"
      },
      "execution_count": 61,
      "outputs": [
        {
          "output_type": "stream",
          "name": "stderr",
          "text": [
            "\n",
            "\n",
            "processing file: Untitled.Rmd\n",
            "\n"
          ]
        },
        {
          "output_type": "stream",
          "name": "stdout",
          "text": [
            "1/1\n"
          ]
        },
        {
          "output_type": "stream",
          "name": "stderr",
          "text": [
            "output file: Untitled.knit.md\n",
            "\n",
            "\n"
          ]
        },
        {
          "output_type": "stream",
          "name": "stdout",
          "text": [
            "/usr/bin/pandoc +RTS -K512m -RTS Untitled.knit.md --to latex --from markdown+autolink_bare_uris+tex_math_single_backslash --output Untitled.tex --lua-filter /usr/local/lib/R/site-library/rmarkdown/rmarkdown/lua/pagebreak.lua --lua-filter /usr/local/lib/R/site-library/rmarkdown/rmarkdown/lua/latex-div.lua --self-contained --template /usr/local/lib/R/site-library/resume/rmarkdown/templates/cover_letter/resources/template.tex --highlight-style tango --pdf-engine xelatex \n"
          ]
        },
        {
          "output_type": "stream",
          "name": "stderr",
          "text": [
            "\n",
            "Output created: Untitled.pdf\n",
            "\n"
          ]
        }
      ]
    },
    {
      "cell_type": "markdown",
      "source": [
        "# Render Résumé"
      ],
      "metadata": {
        "id": "x6b9B1xu8dMk"
      }
    },
    {
      "cell_type": "code",
      "source": [
        "path = \"Untitled\"\n",
        "if (file.exists(path)) {unlink(path, recursive = TRUE)}\n",
        "rmarkdown::draft(paste0(path, \".Rmd\"), template=\"resume\", package=\"resume\", create_dir = TRUE, edit = FALSE)\n",
        "paste0(path, \"/\", path, \".Rmd\") %>% readLines() %>%\n",
        "  gsub(\"Arial\", \"Liberation Serif\",. ) %>%\n",
        "  writeLinesTidy(paste0(path, \"/\", path, \".Rmd\")) %>%\n",
        "  rmarkdown::render()"
      ],
      "metadata": {
        "colab": {
          "base_uri": "https://localhost:8080/"
        },
        "id": "b4U92cpOsqri",
        "outputId": "4cc10428-5698-49b1-b131-4c46485746c3"
      },
      "execution_count": 62,
      "outputs": [
        {
          "output_type": "stream",
          "name": "stderr",
          "text": [
            "\n",
            "\n",
            "processing file: Untitled.Rmd\n",
            "\n"
          ]
        },
        {
          "output_type": "stream",
          "name": "stdout",
          "text": [
            "1/1\n"
          ]
        },
        {
          "output_type": "stream",
          "name": "stderr",
          "text": [
            "output file: Untitled.knit.md\n",
            "\n",
            "\n"
          ]
        },
        {
          "output_type": "stream",
          "name": "stdout",
          "text": [
            "/usr/bin/pandoc +RTS -K512m -RTS Untitled.knit.md --to latex --from markdown+autolink_bare_uris+tex_math_single_backslash --output Untitled.tex --lua-filter /usr/local/lib/R/site-library/rmarkdown/rmarkdown/lua/pagebreak.lua --lua-filter /usr/local/lib/R/site-library/rmarkdown/rmarkdown/lua/latex-div.lua --self-contained --template /usr/local/lib/R/site-library/resume/rmarkdown/templates/resume/resources/template.tex --highlight-style tango --pdf-engine xelatex \n"
          ]
        },
        {
          "output_type": "stream",
          "name": "stderr",
          "text": [
            "\n",
            "Output created: Untitled.pdf\n",
            "\n"
          ]
        }
      ]
    },
    {
      "cell_type": "code",
      "source": [
        "'---\n",
        "contact:\n",
        "    name: Audra Hammond\n",
        "    degree:\n",
        "    street: Tampa\n",
        "    city: Florida\n",
        "    telephone: 555-813-4458\n",
        "    email: audra.hammond@email.com\n",
        "\n",
        "summary: >\n",
        "  Sales manager with five years of experience eager to use relationship management, organizational and research skills to optimize sales strategies.\n",
        "\n",
        "education:\n",
        "  - school: University of Eastern Shore\n",
        "    title: Bachelor of Arts in sales\n",
        "    year: 2003\n",
        "  - school: Seinäjoki College, Finland\n",
        "    title: Graduate\n",
        "    year: 1998\n",
        "experience:\n",
        "  - employer: Industry Plus Magazine\n",
        "    city: Tampa, Florida\n",
        "    position: Sales Manager\n",
        "    period: February 2022–Current\n",
        "    duties:\n",
        "    - duty: Assist sales team to achieve profit goals, averaging $200,000 in annual client revenue\n",
        "    - duty: Oversee development of a 15-member sales team by promoting results-driven strategies\n",
        "    - duty: Develop client acquisition and lead generation strategies by conducting market research\n",
        "    - duty: Project expected sales volume for existing accounts to properly allocate budget\n",
        "    - duty: Analyze budget to reduce expenditure and optimize profits\n",
        "  - employer: Monkey Foot Publishing\n",
        "    city: Tampa, Florida\n",
        "    position: Assistant Relationship\n",
        "    period: July 2018–February 2022\n",
        "    duties:\n",
        "    - duty: Developed a territory plan and make adjustments based on analysis of competitor behavior\n",
        "    - duty: Educated clients on new products and services to optimize upselling tactics\n",
        "    - duty: Maintained record of customer comments, complaints and inquiries\n",
        "\n",
        "skills:\n",
        "  - skill: Relationship management\n",
        "  - skill: Time management\n",
        "  - skill: Consultative sales\n",
        "  - skill: Communication\n",
        "\n",
        "output:\n",
        "  resume::resume:\n",
        "    latex_engine: xelatex\n",
        "    keep_tex: true\n",
        "  font_size: 11pt\n",
        "  paper_size: letterpaper\n",
        "  font: Liberation Serif\n",
        "---\n",
        "' %>% writeLinesTidy(paste0(path, \"/\", path, \".Rmd\")) %>%\n",
        "  rmarkdown::render()"
      ],
      "metadata": {
        "id": "aLsk_FOOsBBi",
        "colab": {
          "base_uri": "https://localhost:8080/"
        },
        "outputId": "dbc09a37-880d-4247-fe76-9d869d596fab"
      },
      "execution_count": 63,
      "outputs": [
        {
          "output_type": "stream",
          "name": "stderr",
          "text": [
            "\n",
            "\n",
            "processing file: Untitled.Rmd\n",
            "\n"
          ]
        },
        {
          "output_type": "stream",
          "name": "stdout",
          "text": [
            "1/1\n"
          ]
        },
        {
          "output_type": "stream",
          "name": "stderr",
          "text": [
            "output file: Untitled.knit.md\n",
            "\n",
            "\n"
          ]
        },
        {
          "output_type": "stream",
          "name": "stdout",
          "text": [
            "/usr/bin/pandoc +RTS -K512m -RTS Untitled.knit.md --to latex --from markdown+autolink_bare_uris+tex_math_single_backslash --output Untitled.tex --lua-filter /usr/local/lib/R/site-library/rmarkdown/rmarkdown/lua/pagebreak.lua --lua-filter /usr/local/lib/R/site-library/rmarkdown/rmarkdown/lua/latex-div.lua --self-contained --template /usr/local/lib/R/site-library/resume/rmarkdown/templates/resume/resources/template.tex --highlight-style tango --pdf-engine xelatex \n"
          ]
        },
        {
          "output_type": "stream",
          "name": "stderr",
          "text": [
            "\n",
            "Output created: Untitled.pdf\n",
            "\n"
          ]
        }
      ]
    }
  ]
}